{
 "cells": [
  {
   "cell_type": "code",
   "execution_count": 1,
   "id": "initial_id",
   "metadata": {
    "collapsed": true,
    "ExecuteTime": {
     "end_time": "2024-09-30T07:55:55.073733Z",
     "start_time": "2024-09-30T07:55:54.132556Z"
    }
   },
   "outputs": [],
   "source": [
    "\n",
    "from mtbtk.tbgea import BaseEnrichmentAnalyzer, GOEnrichmentAnalyzer, KEGGEnrichmentAnalyzer,TFEnrichmentAnalyzer, GOs, KEGG_pathways, TF_genes"
   ]
  },
  {
   "cell_type": "code",
   "outputs": [
    {
     "data": {
      "text/plain": "     ClusterId  hypergeometric_p_value  fisher_exact_p_value  \\\n0   GO:0000036            4.773839e-02          4.773839e-02   \n1   GO:0004312            1.664447e-05          1.664447e-05   \n2   GO:0004315            2.125055e-05          2.125055e-05   \n3   GO:0006631            1.495294e-04          1.495294e-04   \n4   GO:0006633            4.163581e-04          4.163581e-04   \n5   GO:0007155            4.773839e-02          4.773839e-02   \n6   GO:0008610            2.284523e-04          2.284523e-04   \n7   GO:0016740            1.235135e-02          1.235135e-02   \n8   GO:0031177            5.937739e-05          5.937739e-05   \n9   GO:0034081            5.214357e-07          5.214357e-07   \n10  GO:0044283            9.320230e-07          9.320230e-07   \n11  GO:0016491            1.729791e-02          1.729791e-02   \n12  GO:0052572            1.809694e-02          1.809694e-02   \n13  GO:0071766            1.569701e-02          1.569701e-02   \n14  GO:0071770            1.982926e-06          1.982926e-06   \n15  GO:0097041            3.803770e-08          3.803770e-08   \n16  GO:0018104            4.773839e-02          4.773839e-02   \n17  GO:0097040            3.989627e-10          3.989627e-10   \n\n    fisher_exact_odds_ratio  expected_value  enrichment_score  \\\n0                 26.085526        0.048653          4.336906   \n1                 34.778022        0.165419          9.494482   \n2                 32.285714        0.175150          9.204717   \n3                 11.764706        0.525449          6.245295   \n4                  9.267078        0.651946          5.457240   \n5                 26.085526        0.048653          4.336906   \n6                 10.661765        0.574102          5.913581   \n7                  4.022059        1.410928          3.092819   \n8                 23.759398        0.223802          8.044431   \n9                113.285714        0.077844         14.140623   \n10                90.605714        0.087575         13.300495   \n11                 2.736842        3.405689          2.618685   \n12                 4.376803        1.021707          3.000491   \n13                11.864865        0.194611          4.122845   \n14                32.279412        0.223802         10.174731   \n15               453.485714        0.048653         18.013003   \n16                26.085526        0.048653          4.336906   \n17               583.529412        0.058383         20.567126   \n\n    hypergeometric_p_value_adj  fisher_exact_p_value_adj       GO_id  \\\n0                 4.773839e-02              4.773839e-02  GO:0000036   \n1                 4.993340e-05              4.993340e-05  GO:0004312   \n2                 5.464428e-05              5.464428e-05  GO:0004315   \n3                 2.990589e-04              2.990589e-04  GO:0006631   \n4                 6.813133e-04              6.813133e-04  GO:0006633   \n5                 4.773839e-02              4.773839e-02  GO:0007155   \n6                 4.112141e-04              4.112141e-04  GO:0008610   \n7                 1.852703e-02              1.852703e-02  GO:0016740   \n8                 1.335991e-04              1.335991e-04  GO:0031177   \n9                 3.128614e-06              3.128614e-06  GO:0034081   \n10                4.194103e-06              4.194103e-06  GO:0044283   \n11                2.171633e-02              2.171633e-02  GO:0016491   \n12                2.171633e-02              2.171633e-02  GO:0052572   \n13                2.171633e-02              2.171633e-02  GO:0071766   \n14                7.138534e-06              7.138534e-06  GO:0071770   \n15                3.423393e-07              3.423393e-07  GO:0097041   \n16                4.773839e-02              4.773839e-02  GO:0018104   \n17                7.181328e-09              7.181328e-09  GO:0097040   \n\n                                              GO_name             GO_type  \\\n0                               acyl carrier activity  molecular_function   \n1                        fatty acid synthase activity  molecular_function   \n2   3-oxoacyl-[acyl-carrier-protein] synthase acti...  molecular_function   \n3                        fatty acid metabolic process  biological_process   \n4                     fatty acid biosynthetic process  biological_process   \n5                                       cell adhesion  biological_process   \n6                          lipid biosynthetic process  biological_process   \n7                                transferase activity  molecular_function   \n8                          phosphopantetheine binding  molecular_function   \n9                         polyketide synthase complex  cellular_component   \n10                small molecule biosynthetic process  biological_process   \n11                            oxidoreductase activity  molecular_function   \n12                   response to host immune response  biological_process   \n13          Actinobacterium-type cell wall biogenesis  biological_process   \n14                   DIM/DIP cell wall layer assembly  biological_process   \n15          phenolic phthiocerol biosynthetic process  biological_process   \n16                peptidoglycan-protein cross-linking  biological_process   \n17                   phthiocerol biosynthetic process  biological_process   \n\n                                        GO_definition  \\\n0   'Binding an acyl group and presenting it for p...   \n1   'Catalysis of the reaction: acetyl-CoA + n mal...   \n2   'Catalysis of the reaction: acyl-[acyl-carrier...   \n3   'The chemical reactions and pathways involving...   \n4   'The chemical reactions and pathways resulting...   \n5   'The attachment of a cell, either to another c...   \n6   'The chemical reactions and pathways resulting...   \n7   'Catalysis of the transfer of a group, e.g. a ...   \n8   'Binding to phosphopantetheine, the vitamin pa...   \n9   'A protein complex that carries out enzymatic ...   \n10  'The chemical reactions and pathways resulting...   \n11  'Catalysis of an oxidation-reduction (redox) r...   \n12  'Any process that results in a change in state...   \n13  'A cellular process that results in the biosyn...   \n14  'The aggregation, arrangement and bonding toge...   \n15  'The chemical reactions and pathways resulting...   \n16  'The process of covalently linking peptidoglyc...   \n17  'The chemical reactions and pathways resulting...   \n\n                                      Annotated_Genes  \n0           [Rv0033, Rv2244, Rv2383c, Rv1344, Rv2931]  \n1   [Rv2931, Rv2935, Rv2934, Rv2933, Rv2932, Rv166...  \n2   [Rv2935, Rv2934, Rv2933, Rv2932, Rv2931, Rv166...  \n3   [Rv0130, Rv3389c, Rv0241c, Rv0098, Rv0244c, Rv...  \n4   [Rv1527c, Rv1180, Rv3825c, Rv1013, Rv2947c, Rv...  \n5           [Rv3312A, Rv0934, Rv2873, Rv2875, Rv0475]  \n6   [Rv3820c, Rv1180, Rv3825c, Rv1013, Rv1665, Rv1...  \n7   [Rv1412, Rv1139c, Rv2935, Rv2794c, Rv1131, Rv0...  \n8   [Rv1661, Rv2935, Rv2934, Rv2933, Rv2932, Rv293...  \n9   [Rv2935, Rv2934, Rv2933, Rv2932, Rv1180, Rv166...  \n10  [Rv1527c, Rv2934, Rv2933, Rv2932, Rv2931, Rv11...  \n11  [Rv0794c, Rv0823c, Rv0826, Rv0843, Rv0846c, Rv...  \n12  [Rv2608, Rv3347c, Rv2768c, Rv2770c, Rv2892c, R...  \n13  [Rv2948c, Rv3416, Rv2935, Rv2933, Rv2946c, Rv0...  \n14  [Rv1661, Rv2931, Rv2932, Rv2933, Rv2934, Rv293...  \n15          [Rv2948c, Rv2931, Rv2932, Rv2933, Rv2934]  \n16         [Rv0116c, Rv2518c, Rv0483, Rv0192, Rv1433]  \n17  [Rv2930, Rv2950c, Rv2931, Rv2932, Rv2933, Rv2934]  ",
      "text/html": "<div>\n<style scoped>\n    .dataframe tbody tr th:only-of-type {\n        vertical-align: middle;\n    }\n\n    .dataframe tbody tr th {\n        vertical-align: top;\n    }\n\n    .dataframe thead th {\n        text-align: right;\n    }\n</style>\n<table border=\"1\" class=\"dataframe\">\n  <thead>\n    <tr style=\"text-align: right;\">\n      <th></th>\n      <th>ClusterId</th>\n      <th>hypergeometric_p_value</th>\n      <th>fisher_exact_p_value</th>\n      <th>fisher_exact_odds_ratio</th>\n      <th>expected_value</th>\n      <th>enrichment_score</th>\n      <th>hypergeometric_p_value_adj</th>\n      <th>fisher_exact_p_value_adj</th>\n      <th>GO_id</th>\n      <th>GO_name</th>\n      <th>GO_type</th>\n      <th>GO_definition</th>\n      <th>Annotated_Genes</th>\n    </tr>\n  </thead>\n  <tbody>\n    <tr>\n      <th>0</th>\n      <td>GO:0000036</td>\n      <td>4.773839e-02</td>\n      <td>4.773839e-02</td>\n      <td>26.085526</td>\n      <td>0.048653</td>\n      <td>4.336906</td>\n      <td>4.773839e-02</td>\n      <td>4.773839e-02</td>\n      <td>GO:0000036</td>\n      <td>acyl carrier activity</td>\n      <td>molecular_function</td>\n      <td>'Binding an acyl group and presenting it for p...</td>\n      <td>[Rv0033, Rv2244, Rv2383c, Rv1344, Rv2931]</td>\n    </tr>\n    <tr>\n      <th>1</th>\n      <td>GO:0004312</td>\n      <td>1.664447e-05</td>\n      <td>1.664447e-05</td>\n      <td>34.778022</td>\n      <td>0.165419</td>\n      <td>9.494482</td>\n      <td>4.993340e-05</td>\n      <td>4.993340e-05</td>\n      <td>GO:0004312</td>\n      <td>fatty acid synthase activity</td>\n      <td>molecular_function</td>\n      <td>'Catalysis of the reaction: acetyl-CoA + n mal...</td>\n      <td>[Rv2931, Rv2935, Rv2934, Rv2933, Rv2932, Rv166...</td>\n    </tr>\n    <tr>\n      <th>2</th>\n      <td>GO:0004315</td>\n      <td>2.125055e-05</td>\n      <td>2.125055e-05</td>\n      <td>32.285714</td>\n      <td>0.175150</td>\n      <td>9.204717</td>\n      <td>5.464428e-05</td>\n      <td>5.464428e-05</td>\n      <td>GO:0004315</td>\n      <td>3-oxoacyl-[acyl-carrier-protein] synthase acti...</td>\n      <td>molecular_function</td>\n      <td>'Catalysis of the reaction: acyl-[acyl-carrier...</td>\n      <td>[Rv2935, Rv2934, Rv2933, Rv2932, Rv2931, Rv166...</td>\n    </tr>\n    <tr>\n      <th>3</th>\n      <td>GO:0006631</td>\n      <td>1.495294e-04</td>\n      <td>1.495294e-04</td>\n      <td>11.764706</td>\n      <td>0.525449</td>\n      <td>6.245295</td>\n      <td>2.990589e-04</td>\n      <td>2.990589e-04</td>\n      <td>GO:0006631</td>\n      <td>fatty acid metabolic process</td>\n      <td>biological_process</td>\n      <td>'The chemical reactions and pathways involving...</td>\n      <td>[Rv0130, Rv3389c, Rv0241c, Rv0098, Rv0244c, Rv...</td>\n    </tr>\n    <tr>\n      <th>4</th>\n      <td>GO:0006633</td>\n      <td>4.163581e-04</td>\n      <td>4.163581e-04</td>\n      <td>9.267078</td>\n      <td>0.651946</td>\n      <td>5.457240</td>\n      <td>6.813133e-04</td>\n      <td>6.813133e-04</td>\n      <td>GO:0006633</td>\n      <td>fatty acid biosynthetic process</td>\n      <td>biological_process</td>\n      <td>'The chemical reactions and pathways resulting...</td>\n      <td>[Rv1527c, Rv1180, Rv3825c, Rv1013, Rv2947c, Rv...</td>\n    </tr>\n    <tr>\n      <th>5</th>\n      <td>GO:0007155</td>\n      <td>4.773839e-02</td>\n      <td>4.773839e-02</td>\n      <td>26.085526</td>\n      <td>0.048653</td>\n      <td>4.336906</td>\n      <td>4.773839e-02</td>\n      <td>4.773839e-02</td>\n      <td>GO:0007155</td>\n      <td>cell adhesion</td>\n      <td>biological_process</td>\n      <td>'The attachment of a cell, either to another c...</td>\n      <td>[Rv3312A, Rv0934, Rv2873, Rv2875, Rv0475]</td>\n    </tr>\n    <tr>\n      <th>6</th>\n      <td>GO:0008610</td>\n      <td>2.284523e-04</td>\n      <td>2.284523e-04</td>\n      <td>10.661765</td>\n      <td>0.574102</td>\n      <td>5.913581</td>\n      <td>4.112141e-04</td>\n      <td>4.112141e-04</td>\n      <td>GO:0008610</td>\n      <td>lipid biosynthetic process</td>\n      <td>biological_process</td>\n      <td>'The chemical reactions and pathways resulting...</td>\n      <td>[Rv3820c, Rv1180, Rv3825c, Rv1013, Rv1665, Rv1...</td>\n    </tr>\n    <tr>\n      <th>7</th>\n      <td>GO:0016740</td>\n      <td>1.235135e-02</td>\n      <td>1.235135e-02</td>\n      <td>4.022059</td>\n      <td>1.410928</td>\n      <td>3.092819</td>\n      <td>1.852703e-02</td>\n      <td>1.852703e-02</td>\n      <td>GO:0016740</td>\n      <td>transferase activity</td>\n      <td>molecular_function</td>\n      <td>'Catalysis of the transfer of a group, e.g. a ...</td>\n      <td>[Rv1412, Rv1139c, Rv2935, Rv2794c, Rv1131, Rv0...</td>\n    </tr>\n    <tr>\n      <th>8</th>\n      <td>GO:0031177</td>\n      <td>5.937739e-05</td>\n      <td>5.937739e-05</td>\n      <td>23.759398</td>\n      <td>0.223802</td>\n      <td>8.044431</td>\n      <td>1.335991e-04</td>\n      <td>1.335991e-04</td>\n      <td>GO:0031177</td>\n      <td>phosphopantetheine binding</td>\n      <td>molecular_function</td>\n      <td>'Binding to phosphopantetheine, the vitamin pa...</td>\n      <td>[Rv1661, Rv2935, Rv2934, Rv2933, Rv2932, Rv293...</td>\n    </tr>\n    <tr>\n      <th>9</th>\n      <td>GO:0034081</td>\n      <td>5.214357e-07</td>\n      <td>5.214357e-07</td>\n      <td>113.285714</td>\n      <td>0.077844</td>\n      <td>14.140623</td>\n      <td>3.128614e-06</td>\n      <td>3.128614e-06</td>\n      <td>GO:0034081</td>\n      <td>polyketide synthase complex</td>\n      <td>cellular_component</td>\n      <td>'A protein complex that carries out enzymatic ...</td>\n      <td>[Rv2935, Rv2934, Rv2933, Rv2932, Rv1180, Rv166...</td>\n    </tr>\n    <tr>\n      <th>10</th>\n      <td>GO:0044283</td>\n      <td>9.320230e-07</td>\n      <td>9.320230e-07</td>\n      <td>90.605714</td>\n      <td>0.087575</td>\n      <td>13.300495</td>\n      <td>4.194103e-06</td>\n      <td>4.194103e-06</td>\n      <td>GO:0044283</td>\n      <td>small molecule biosynthetic process</td>\n      <td>biological_process</td>\n      <td>'The chemical reactions and pathways resulting...</td>\n      <td>[Rv1527c, Rv2934, Rv2933, Rv2932, Rv2931, Rv11...</td>\n    </tr>\n    <tr>\n      <th>11</th>\n      <td>GO:0016491</td>\n      <td>1.729791e-02</td>\n      <td>1.729791e-02</td>\n      <td>2.736842</td>\n      <td>3.405689</td>\n      <td>2.618685</td>\n      <td>2.171633e-02</td>\n      <td>2.171633e-02</td>\n      <td>GO:0016491</td>\n      <td>oxidoreductase activity</td>\n      <td>molecular_function</td>\n      <td>'Catalysis of an oxidation-reduction (redox) r...</td>\n      <td>[Rv0794c, Rv0823c, Rv0826, Rv0843, Rv0846c, Rv...</td>\n    </tr>\n    <tr>\n      <th>12</th>\n      <td>GO:0052572</td>\n      <td>1.809694e-02</td>\n      <td>1.809694e-02</td>\n      <td>4.376803</td>\n      <td>1.021707</td>\n      <td>3.000491</td>\n      <td>2.171633e-02</td>\n      <td>2.171633e-02</td>\n      <td>GO:0052572</td>\n      <td>response to host immune response</td>\n      <td>biological_process</td>\n      <td>'Any process that results in a change in state...</td>\n      <td>[Rv2608, Rv3347c, Rv2768c, Rv2770c, Rv2892c, R...</td>\n    </tr>\n    <tr>\n      <th>13</th>\n      <td>GO:0071766</td>\n      <td>1.569701e-02</td>\n      <td>1.569701e-02</td>\n      <td>11.864865</td>\n      <td>0.194611</td>\n      <td>4.122845</td>\n      <td>2.171633e-02</td>\n      <td>2.171633e-02</td>\n      <td>GO:0071766</td>\n      <td>Actinobacterium-type cell wall biogenesis</td>\n      <td>biological_process</td>\n      <td>'A cellular process that results in the biosyn...</td>\n      <td>[Rv2948c, Rv3416, Rv2935, Rv2933, Rv2946c, Rv0...</td>\n    </tr>\n    <tr>\n      <th>14</th>\n      <td>GO:0071770</td>\n      <td>1.982926e-06</td>\n      <td>1.982926e-06</td>\n      <td>32.279412</td>\n      <td>0.223802</td>\n      <td>10.174731</td>\n      <td>7.138534e-06</td>\n      <td>7.138534e-06</td>\n      <td>GO:0071770</td>\n      <td>DIM/DIP cell wall layer assembly</td>\n      <td>biological_process</td>\n      <td>'The aggregation, arrangement and bonding toge...</td>\n      <td>[Rv1661, Rv2931, Rv2932, Rv2933, Rv2934, Rv293...</td>\n    </tr>\n    <tr>\n      <th>15</th>\n      <td>GO:0097041</td>\n      <td>3.803770e-08</td>\n      <td>3.803770e-08</td>\n      <td>453.485714</td>\n      <td>0.048653</td>\n      <td>18.013003</td>\n      <td>3.423393e-07</td>\n      <td>3.423393e-07</td>\n      <td>GO:0097041</td>\n      <td>phenolic phthiocerol biosynthetic process</td>\n      <td>biological_process</td>\n      <td>'The chemical reactions and pathways resulting...</td>\n      <td>[Rv2948c, Rv2931, Rv2932, Rv2933, Rv2934]</td>\n    </tr>\n    <tr>\n      <th>16</th>\n      <td>GO:0018104</td>\n      <td>4.773839e-02</td>\n      <td>4.773839e-02</td>\n      <td>26.085526</td>\n      <td>0.048653</td>\n      <td>4.336906</td>\n      <td>4.773839e-02</td>\n      <td>4.773839e-02</td>\n      <td>GO:0018104</td>\n      <td>peptidoglycan-protein cross-linking</td>\n      <td>biological_process</td>\n      <td>'The process of covalently linking peptidoglyc...</td>\n      <td>[Rv0116c, Rv2518c, Rv0483, Rv0192, Rv1433]</td>\n    </tr>\n    <tr>\n      <th>17</th>\n      <td>GO:0097040</td>\n      <td>3.989627e-10</td>\n      <td>3.989627e-10</td>\n      <td>583.529412</td>\n      <td>0.058383</td>\n      <td>20.567126</td>\n      <td>7.181328e-09</td>\n      <td>7.181328e-09</td>\n      <td>GO:0097040</td>\n      <td>phthiocerol biosynthetic process</td>\n      <td>biological_process</td>\n      <td>'The chemical reactions and pathways resulting...</td>\n      <td>[Rv2930, Rv2950c, Rv2931, Rv2932, Rv2933, Rv2934]</td>\n    </tr>\n  </tbody>\n</table>\n</div>"
     },
     "execution_count": 2,
     "metadata": {},
     "output_type": "execute_result"
    }
   ],
   "source": [
    "from mtbtk.tbgea import BaseEnrichmentAnalyzer, GOEnrichmentAnalyzer, KEGGEnrichmentAnalyzer, GOs, KEGG_pathways, TF_genes\n",
    "import pandas as pd\n",
    "DEG = pd.read_csv('test_transcriptome_result.csv', index_col=0)\n",
    "filtered_DEG = DEG[(DEG.padj < 0.05) & (DEG.log2FoldChange > 2)]\n",
    "UpGeneSet = list(filtered_DEG.index)\n",
    "GOEA = GOEnrichmentAnalyzer(UpGeneSet)\n",
    "GOEA.GOEnrichmentAnalysis()"
   ],
   "metadata": {
    "collapsed": false,
    "ExecuteTime": {
     "end_time": "2024-09-30T07:55:57.351399Z",
     "start_time": "2024-09-30T07:55:56.871875Z"
    }
   },
   "id": "37f0dcb868243f54",
   "execution_count": 2
  },
  {
   "cell_type": "code",
   "outputs": [
    {
     "data": {
      "text/plain": "  ClusterId  hypergeometric_p_value  fisher_exact_p_value  \\\n0  mtu05152                0.042563              0.042563   \n\n   fisher_exact_odds_ratio  expected_value  enrichment_score  \\\n0                 6.650338        0.330838          2.928625   \n\n   hypergeometric_p_value_adj  fisher_exact_p_value_adj pathway_id  \\\n0                    0.042563                  0.042563   mtu05152   \n\n   pathway_name   level_i_class                 level_ii_class  \\\n0  Tuberculosis  Human Diseases  Infectious disease: bacterial   \n\n                                           mtu_genes  \\\n0  [\"Rv3818\", \"Rv3763\", \"Rv1411c\", \"Rv1270c\", \"Rv...   \n\n                                      ko_orthologues  number_of_mtu_genes  \\\n0  [\"K03158\", \"K03171\", \"K02373\", \"K04398\", \"K044...                   34   \n\n   number_of_ko ko_pathway_id  \n0           130       ko05152  ",
      "text/html": "<div>\n<style scoped>\n    .dataframe tbody tr th:only-of-type {\n        vertical-align: middle;\n    }\n\n    .dataframe tbody tr th {\n        vertical-align: top;\n    }\n\n    .dataframe thead th {\n        text-align: right;\n    }\n</style>\n<table border=\"1\" class=\"dataframe\">\n  <thead>\n    <tr style=\"text-align: right;\">\n      <th></th>\n      <th>ClusterId</th>\n      <th>hypergeometric_p_value</th>\n      <th>fisher_exact_p_value</th>\n      <th>fisher_exact_odds_ratio</th>\n      <th>expected_value</th>\n      <th>enrichment_score</th>\n      <th>hypergeometric_p_value_adj</th>\n      <th>fisher_exact_p_value_adj</th>\n      <th>pathway_id</th>\n      <th>pathway_name</th>\n      <th>level_i_class</th>\n      <th>level_ii_class</th>\n      <th>mtu_genes</th>\n      <th>ko_orthologues</th>\n      <th>number_of_mtu_genes</th>\n      <th>number_of_ko</th>\n      <th>ko_pathway_id</th>\n    </tr>\n  </thead>\n  <tbody>\n    <tr>\n      <th>0</th>\n      <td>mtu05152</td>\n      <td>0.042563</td>\n      <td>0.042563</td>\n      <td>6.650338</td>\n      <td>0.330838</td>\n      <td>2.928625</td>\n      <td>0.042563</td>\n      <td>0.042563</td>\n      <td>mtu05152</td>\n      <td>Tuberculosis</td>\n      <td>Human Diseases</td>\n      <td>Infectious disease: bacterial</td>\n      <td>[\"Rv3818\", \"Rv3763\", \"Rv1411c\", \"Rv1270c\", \"Rv...</td>\n      <td>[\"K03158\", \"K03171\", \"K02373\", \"K04398\", \"K044...</td>\n      <td>34</td>\n      <td>130</td>\n      <td>ko05152</td>\n    </tr>\n  </tbody>\n</table>\n</div>"
     },
     "execution_count": 3,
     "metadata": {},
     "output_type": "execute_result"
    }
   ],
   "source": [
    "KEA = KEGGEnrichmentAnalyzer(UpGeneSet)\n",
    "KEA.KEGGEnrichmentAnalysis()"
   ],
   "metadata": {
    "collapsed": false,
    "ExecuteTime": {
     "end_time": "2024-09-30T07:55:58.828826Z",
     "start_time": "2024-09-30T07:55:58.725739Z"
    }
   },
   "id": "23d160cef7444f95",
   "execution_count": 3
  },
  {
   "cell_type": "code",
   "outputs": [
    {
     "name": "stderr",
     "output_type": "stream",
     "text": [
      "/Users/luty/MyPythonPackages/MtbTk/src/mtbtk/tbgea/enrichment_analyzer.py:28: RuntimeWarning: invalid value encountered in scalar divide\n",
      "  enrichment_score = (Y - expected_value) / np.sqrt(expected_value * (N - M) * (N - X) / (N**2))\n"
     ]
    },
    {
     "data": {
      "text/plain": "  ClusterId  hypergeometric_p_value  fisher_exact_p_value  \\\n0      phoP                0.000028              0.000028   \n1    Rv0023                0.022194              0.036944   \n2   Rv1776c                0.015433              0.018082   \n3   Rv2021c                0.044570              0.044570   \n4   Rv1353c                0.003760              0.004798   \n\n   fisher_exact_odds_ratio  expected_value  enrichment_score  \\\n0                 9.647372        0.924401          6.426745   \n1                 2.286267        5.770210          2.370174   \n2                 2.431871        5.478293          2.557074   \n3                 3.245714        1.352545          2.328309   \n4                 2.622910        8.251497          3.052777   \n\n   hypergeometric_p_value_adj  fisher_exact_p_value_adj transcription_factor  \\\n0                    0.000139                  0.000139                 phoP   \n1                    0.027743                  0.044570               Rv0023   \n2                    0.025722                  0.030136              Rv1776c   \n3                    0.044570                  0.044570              Rv2021c   \n4                    0.009401                  0.011995              Rv1353c   \n\n  transcription_factor_locus  \\\n0                     Rv0757   \n1                     Rv0023   \n2                    Rv1776c   \n3                    Rv2021c   \n4                    Rv1353c   \n\n                                          regulation  \n0  {'up': [{'target_gene': 'Rv2216', 'target_locu...  \n1  {'up': [{'target_gene': 'Rv2114', 'target_locu...  \n2  {'up': [{'target_gene': 'tyrS', 'target_locus'...  \n3  {'up': [{'target_gene': 'whiB7', 'target_locus...  \n4  {'up': [{'target_gene': 'Rv2034', 'target_locu...  ",
      "text/html": "<div>\n<style scoped>\n    .dataframe tbody tr th:only-of-type {\n        vertical-align: middle;\n    }\n\n    .dataframe tbody tr th {\n        vertical-align: top;\n    }\n\n    .dataframe thead th {\n        text-align: right;\n    }\n</style>\n<table border=\"1\" class=\"dataframe\">\n  <thead>\n    <tr style=\"text-align: right;\">\n      <th></th>\n      <th>ClusterId</th>\n      <th>hypergeometric_p_value</th>\n      <th>fisher_exact_p_value</th>\n      <th>fisher_exact_odds_ratio</th>\n      <th>expected_value</th>\n      <th>enrichment_score</th>\n      <th>hypergeometric_p_value_adj</th>\n      <th>fisher_exact_p_value_adj</th>\n      <th>transcription_factor</th>\n      <th>transcription_factor_locus</th>\n      <th>regulation</th>\n    </tr>\n  </thead>\n  <tbody>\n    <tr>\n      <th>0</th>\n      <td>phoP</td>\n      <td>0.000028</td>\n      <td>0.000028</td>\n      <td>9.647372</td>\n      <td>0.924401</td>\n      <td>6.426745</td>\n      <td>0.000139</td>\n      <td>0.000139</td>\n      <td>phoP</td>\n      <td>Rv0757</td>\n      <td>{'up': [{'target_gene': 'Rv2216', 'target_locu...</td>\n    </tr>\n    <tr>\n      <th>1</th>\n      <td>Rv0023</td>\n      <td>0.022194</td>\n      <td>0.036944</td>\n      <td>2.286267</td>\n      <td>5.770210</td>\n      <td>2.370174</td>\n      <td>0.027743</td>\n      <td>0.044570</td>\n      <td>Rv0023</td>\n      <td>Rv0023</td>\n      <td>{'up': [{'target_gene': 'Rv2114', 'target_locu...</td>\n    </tr>\n    <tr>\n      <th>2</th>\n      <td>Rv1776c</td>\n      <td>0.015433</td>\n      <td>0.018082</td>\n      <td>2.431871</td>\n      <td>5.478293</td>\n      <td>2.557074</td>\n      <td>0.025722</td>\n      <td>0.030136</td>\n      <td>Rv1776c</td>\n      <td>Rv1776c</td>\n      <td>{'up': [{'target_gene': 'tyrS', 'target_locus'...</td>\n    </tr>\n    <tr>\n      <th>3</th>\n      <td>Rv2021c</td>\n      <td>0.044570</td>\n      <td>0.044570</td>\n      <td>3.245714</td>\n      <td>1.352545</td>\n      <td>2.328309</td>\n      <td>0.044570</td>\n      <td>0.044570</td>\n      <td>Rv2021c</td>\n      <td>Rv2021c</td>\n      <td>{'up': [{'target_gene': 'whiB7', 'target_locus...</td>\n    </tr>\n    <tr>\n      <th>4</th>\n      <td>Rv1353c</td>\n      <td>0.003760</td>\n      <td>0.004798</td>\n      <td>2.622910</td>\n      <td>8.251497</td>\n      <td>3.052777</td>\n      <td>0.009401</td>\n      <td>0.011995</td>\n      <td>Rv1353c</td>\n      <td>Rv1353c</td>\n      <td>{'up': [{'target_gene': 'Rv2034', 'target_locu...</td>\n    </tr>\n  </tbody>\n</table>\n</div>"
     },
     "execution_count": 4,
     "metadata": {},
     "output_type": "execute_result"
    }
   ],
   "source": [
    "TFEA = TFEnrichmentAnalyzer(UpGeneSet)\n",
    "TFEA.TfRegulationEnrichmentAnalysis(query_gene_set_type='up')"
   ],
   "metadata": {
    "collapsed": false,
    "ExecuteTime": {
     "end_time": "2024-09-30T07:56:01.286483Z",
     "start_time": "2024-09-30T07:56:01.011122Z"
    }
   },
   "id": "e134aaf99b47b003",
   "execution_count": 4
  },
  {
   "cell_type": "code",
   "outputs": [],
   "source": [],
   "metadata": {
    "collapsed": false
   },
   "id": "86d562434e982d58"
  }
 ],
 "metadata": {
  "kernelspec": {
   "display_name": "Python 3",
   "language": "python",
   "name": "python3"
  },
  "language_info": {
   "codemirror_mode": {
    "name": "ipython",
    "version": 2
   },
   "file_extension": ".py",
   "mimetype": "text/x-python",
   "name": "python",
   "nbconvert_exporter": "python",
   "pygments_lexer": "ipython2",
   "version": "2.7.6"
  }
 },
 "nbformat": 4,
 "nbformat_minor": 5
}
