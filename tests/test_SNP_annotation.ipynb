{
 "cells": [
  {
   "cell_type": "code",
   "outputs": [
    {
     "ename": "ModuleNotFoundError",
     "evalue": "No module named 'mtbtk'",
     "output_type": "error",
     "traceback": [
      "\u001B[0;31m---------------------------------------------------------------------------\u001B[0m",
      "\u001B[0;31mModuleNotFoundError\u001B[0m                       Traceback (most recent call last)",
      "Cell \u001B[0;32mIn[2], line 1\u001B[0m\n\u001B[0;32m----> 1\u001B[0m \u001B[38;5;28;01mfrom\u001B[39;00m \u001B[38;5;21;01mmtbtk\u001B[39;00m\u001B[38;5;21;01m.\u001B[39;00m\u001B[38;5;21;01mtbva\u001B[39;00m \u001B[38;5;28;01mimport\u001B[39;00m genes, VCFParser,VariantAnnotator,LineageIdentifier\n",
      "\u001B[0;31mModuleNotFoundError\u001B[0m: No module named 'mtbtk'"
     ]
    }
   ],
   "source": [
    "from mtbtk.tbva import genes, VCFParser,VariantAnnotator,LineageIdentifier"
   ],
   "metadata": {
    "collapsed": false,
    "ExecuteTime": {
     "end_time": "2024-09-30T08:54:40.109618Z",
     "start_time": "2024-09-30T08:54:40.087092Z"
    }
   },
   "id": "996b5d318fc58557",
   "execution_count": 2
  },
  {
   "cell_type": "code",
   "outputs": [
    {
     "data": {
      "text/plain": "[{'allele': '931123_T',\n  'lineage': 'lineage4',\n  'lineage_name': 'Euro-American'},\n {'allele': '1759252_G',\n  'lineage': 'lineage4.9',\n  'lineage_name': 'Euro-American (H37Rv-like)'}]"
     },
     "execution_count": 3,
     "metadata": {},
     "output_type": "execute_result"
    }
   ],
   "source": [
    "vcf = VCFParser('R1_ano.vcf')\n",
    "LI = LineageIdentifier()\n",
    "LI.get_match_lineage(vcf.SNP)"
   ],
   "metadata": {
    "collapsed": false,
    "ExecuteTime": {
     "end_time": "2024-09-30T08:41:59.191685Z",
     "start_time": "2024-09-30T08:41:59.074219Z"
    }
   },
   "id": "f9319d6e5acb8fc6",
   "execution_count": 3
  },
  {
   "cell_type": "code",
   "outputs": [
    {
     "name": "stdout",
     "output_type": "stream",
     "text": [
      "          POS REF ALT     GENE           VARIANT           VARIANT_TYPE  \\\n",
      "0        1849   C   A     dnaN    dnaN_c.-203C>A  upstream_gene_variant   \n",
      "1        1977   A   G     dnaN     dnaN_c.-75A>G  upstream_gene_variant   \n",
      "2        4013   T   C     recF  recF_p.Ile245Thr       missense_variant   \n",
      "3        7362   G   C     gyrA   gyrA_p.Glu21Gln       missense_variant   \n",
      "4        7585   G   C     gyrA   gyrA_p.Ser95Thr       missense_variant   \n",
      "...       ...  ..  ..      ...               ...                    ...   \n",
      "1275  4393590   C   G    mutT4  mutT4_p.Arg48Gly       missense_variant   \n",
      "1276  4397736   C   T   Rv3910  Rv3910_c.1140C>T     synonymous_variant   \n",
      "1277  4407588   T   C      gid      gid_c.615A>G     synonymous_variant   \n",
      "1278  4407927   T   G      gid    gid_p.Glu92Asp       missense_variant   \n",
      "1279  4408923   C   T  Rv3920c  Rv3920c_c.-26G>A  upstream_gene_variant   \n",
      "\n",
      "        IMPACT  \n",
      "0     MODIFIER  \n",
      "1     MODIFIER  \n",
      "2     MODERATE  \n",
      "3     MODERATE  \n",
      "4     MODERATE  \n",
      "...        ...  \n",
      "1275  MODERATE  \n",
      "1276       LOW  \n",
      "1277       LOW  \n",
      "1278  MODERATE  \n",
      "1279  MODIFIER  \n",
      "\n",
      "[1280 rows x 7 columns]\n"
     ]
    }
   ],
   "source": [
    "VA = VariantAnnotator(vcf.SNP)\n",
    "print(VA.SnpEffectAnnotation())"
   ],
   "metadata": {
    "collapsed": false,
    "ExecuteTime": {
     "end_time": "2024-09-30T08:42:21.663673Z",
     "start_time": "2024-09-30T08:42:21.239458Z"
    }
   },
   "id": "aab6f3bc7621e39e",
   "execution_count": 7
  },
  {
   "cell_type": "code",
   "outputs": [
    {
     "data": {
      "text/plain": "Empty DataFrame\nColumns: []\nIndex: []",
      "text/html": "<div>\n<style scoped>\n    .dataframe tbody tr th:only-of-type {\n        vertical-align: middle;\n    }\n\n    .dataframe tbody tr th {\n        vertical-align: top;\n    }\n\n    .dataframe thead th {\n        text-align: right;\n    }\n</style>\n<table border=\"1\" class=\"dataframe\">\n  <thead>\n    <tr style=\"text-align: right;\">\n      <th></th>\n    </tr>\n  </thead>\n  <tbody>\n  </tbody>\n</table>\n</div>"
     },
     "execution_count": 8,
     "metadata": {},
     "output_type": "execute_result"
    }
   ],
   "source": [
    "VA.EpitopeAnnotation()"
   ],
   "metadata": {
    "collapsed": false,
    "ExecuteTime": {
     "end_time": "2024-09-30T08:42:25.938474Z",
     "start_time": "2024-09-30T08:42:25.844962Z"
    }
   },
   "id": "2f0b69dd44fbd567",
   "execution_count": 8
  },
  {
   "cell_type": "code",
   "outputs": [
    {
     "data": {
      "text/plain": "         POS REF ALT   GENE            VARIANT      VARIANT_TYPE    IMPACT  \\\n0       4013   T   C   recF   recF_p.Ile245Thr  missense_variant  MODERATE   \n1       4013   T   C   recF   recF_p.Ile245Thr  missense_variant  MODERATE   \n2       7362   G   C   gyrA    gyrA_p.Glu21Gln  missense_variant  MODERATE   \n3       7585   G   C   gyrA    gyrA_p.Ser95Thr  missense_variant  MODERATE   \n4       7585   G   C   gyrA    gyrA_p.Ser95Thr  missense_variant  MODERATE   \n..       ...  ..  ..    ...                ...               ...       ...   \n567  4378504   T   C  eccC2  eccC2_p.Asp650Gly  missense_variant  MODERATE   \n568  4378943   T   G  eccC2  eccC2_p.Asn504His  missense_variant  MODERATE   \n569  4379680   C   G  eccC2  eccC2_p.Arg258Pro  missense_variant  MODERATE   \n570  4407927   T   G    gid     gid_p.Glu92Asp  missense_variant  MODERATE   \n571  4407927   T   G    gid     gid_p.Glu92Asp  missense_variant  MODERATE   \n\n    gene_name    locus  domain_id  \\\n0        recF   Rv0003  TIGR00611   \n1        recF   Rv0003    PF02463   \n2        gyrA   Rv0006  TIGR01063   \n3        gyrA   Rv0006  TIGR01063   \n4        gyrA   Rv0006    PF00521   \n..        ...      ...        ...   \n567     eccC2  Rv3894c  TIGR03924   \n568     eccC2  Rv3894c  TIGR03924   \n569     eccC2  Rv3894c  TIGR03924   \n570       gid  Rv3919c  TIGR00138   \n571       gid  Rv3919c    PF02527   \n\n                                           domain_name  \\\n0              DNA replication and repair protein RecF   \n1                      RecF/RecN/SMC N terminal domain   \n2                                 DNA gyrase subunit A   \n3                                 DNA gyrase subunit A   \n4               DNA gyrase/topoisomerase IV, subunit A   \n..                                                 ...   \n567                   type VII secretion protein EccCa   \n568                   type VII secretion protein EccCa   \n569                   type VII secretion protein EccCa   \n570  16S rRNA (guanine(527)-N(7))-methyltransferase...   \n571             rRNA small subunit methyltransferase G   \n\n                                    domain_description  genome_pos_start  \\\n0    <p>This family is based on the phylogenomic an...              3280   \n1    <p>This domain is found at the N terminus of S...              3283   \n2    <p>This model describes the common type II DNA...              7344   \n3    <p>This model describes the common type II DNA...              7344   \n4               DNA gyrase/topoisomerase IV; subunit A              7416   \n..                                                 ...               ...   \n567  <p>This model represents the N-terminal domain...           4378233   \n568  <p>This model represents the N-terminal domain...           4378233   \n569  <p>This model represents the N-terminal domain...           4378233   \n570  <p>RsmG was previously called GidB (glucose-in...           4407588   \n571  <p>This is a family of bacterial glucose inhib...           4407600   \n\n     genome_pos_end  gene_pos_start  gene_pos_end interpro_id source_database  \n0              4419               0          1139   IPR001238         ncbifam  \n1              4356               3          1076   IPR003395            pfam  \n2              9761              42          2459        None         ncbifam  \n3              9761              42          2459        None         ncbifam  \n4              8774             114          1472   IPR002205            pfam  \n..              ...             ...           ...         ...             ...  \n567         4380386            1971          4124   IPR023836         ncbifam  \n568         4380386            1971          4124   IPR023836         ncbifam  \n569         4380386            1971          4124   IPR023836         ncbifam  \n570         4408148              60           620   IPR003682         ncbifam  \n571         4408160              72           632   IPR003682            pfam  \n\n[572 rows x 18 columns]",
      "text/html": "<div>\n<style scoped>\n    .dataframe tbody tr th:only-of-type {\n        vertical-align: middle;\n    }\n\n    .dataframe tbody tr th {\n        vertical-align: top;\n    }\n\n    .dataframe thead th {\n        text-align: right;\n    }\n</style>\n<table border=\"1\" class=\"dataframe\">\n  <thead>\n    <tr style=\"text-align: right;\">\n      <th></th>\n      <th>POS</th>\n      <th>REF</th>\n      <th>ALT</th>\n      <th>GENE</th>\n      <th>VARIANT</th>\n      <th>VARIANT_TYPE</th>\n      <th>IMPACT</th>\n      <th>gene_name</th>\n      <th>locus</th>\n      <th>domain_id</th>\n      <th>domain_name</th>\n      <th>domain_description</th>\n      <th>genome_pos_start</th>\n      <th>genome_pos_end</th>\n      <th>gene_pos_start</th>\n      <th>gene_pos_end</th>\n      <th>interpro_id</th>\n      <th>source_database</th>\n    </tr>\n  </thead>\n  <tbody>\n    <tr>\n      <th>0</th>\n      <td>4013</td>\n      <td>T</td>\n      <td>C</td>\n      <td>recF</td>\n      <td>recF_p.Ile245Thr</td>\n      <td>missense_variant</td>\n      <td>MODERATE</td>\n      <td>recF</td>\n      <td>Rv0003</td>\n      <td>TIGR00611</td>\n      <td>DNA replication and repair protein RecF</td>\n      <td>&lt;p&gt;This family is based on the phylogenomic an...</td>\n      <td>3280</td>\n      <td>4419</td>\n      <td>0</td>\n      <td>1139</td>\n      <td>IPR001238</td>\n      <td>ncbifam</td>\n    </tr>\n    <tr>\n      <th>1</th>\n      <td>4013</td>\n      <td>T</td>\n      <td>C</td>\n      <td>recF</td>\n      <td>recF_p.Ile245Thr</td>\n      <td>missense_variant</td>\n      <td>MODERATE</td>\n      <td>recF</td>\n      <td>Rv0003</td>\n      <td>PF02463</td>\n      <td>RecF/RecN/SMC N terminal domain</td>\n      <td>&lt;p&gt;This domain is found at the N terminus of S...</td>\n      <td>3283</td>\n      <td>4356</td>\n      <td>3</td>\n      <td>1076</td>\n      <td>IPR003395</td>\n      <td>pfam</td>\n    </tr>\n    <tr>\n      <th>2</th>\n      <td>7362</td>\n      <td>G</td>\n      <td>C</td>\n      <td>gyrA</td>\n      <td>gyrA_p.Glu21Gln</td>\n      <td>missense_variant</td>\n      <td>MODERATE</td>\n      <td>gyrA</td>\n      <td>Rv0006</td>\n      <td>TIGR01063</td>\n      <td>DNA gyrase subunit A</td>\n      <td>&lt;p&gt;This model describes the common type II DNA...</td>\n      <td>7344</td>\n      <td>9761</td>\n      <td>42</td>\n      <td>2459</td>\n      <td>None</td>\n      <td>ncbifam</td>\n    </tr>\n    <tr>\n      <th>3</th>\n      <td>7585</td>\n      <td>G</td>\n      <td>C</td>\n      <td>gyrA</td>\n      <td>gyrA_p.Ser95Thr</td>\n      <td>missense_variant</td>\n      <td>MODERATE</td>\n      <td>gyrA</td>\n      <td>Rv0006</td>\n      <td>TIGR01063</td>\n      <td>DNA gyrase subunit A</td>\n      <td>&lt;p&gt;This model describes the common type II DNA...</td>\n      <td>7344</td>\n      <td>9761</td>\n      <td>42</td>\n      <td>2459</td>\n      <td>None</td>\n      <td>ncbifam</td>\n    </tr>\n    <tr>\n      <th>4</th>\n      <td>7585</td>\n      <td>G</td>\n      <td>C</td>\n      <td>gyrA</td>\n      <td>gyrA_p.Ser95Thr</td>\n      <td>missense_variant</td>\n      <td>MODERATE</td>\n      <td>gyrA</td>\n      <td>Rv0006</td>\n      <td>PF00521</td>\n      <td>DNA gyrase/topoisomerase IV, subunit A</td>\n      <td>DNA gyrase/topoisomerase IV; subunit A</td>\n      <td>7416</td>\n      <td>8774</td>\n      <td>114</td>\n      <td>1472</td>\n      <td>IPR002205</td>\n      <td>pfam</td>\n    </tr>\n    <tr>\n      <th>...</th>\n      <td>...</td>\n      <td>...</td>\n      <td>...</td>\n      <td>...</td>\n      <td>...</td>\n      <td>...</td>\n      <td>...</td>\n      <td>...</td>\n      <td>...</td>\n      <td>...</td>\n      <td>...</td>\n      <td>...</td>\n      <td>...</td>\n      <td>...</td>\n      <td>...</td>\n      <td>...</td>\n      <td>...</td>\n      <td>...</td>\n    </tr>\n    <tr>\n      <th>567</th>\n      <td>4378504</td>\n      <td>T</td>\n      <td>C</td>\n      <td>eccC2</td>\n      <td>eccC2_p.Asp650Gly</td>\n      <td>missense_variant</td>\n      <td>MODERATE</td>\n      <td>eccC2</td>\n      <td>Rv3894c</td>\n      <td>TIGR03924</td>\n      <td>type VII secretion protein EccCa</td>\n      <td>&lt;p&gt;This model represents the N-terminal domain...</td>\n      <td>4378233</td>\n      <td>4380386</td>\n      <td>1971</td>\n      <td>4124</td>\n      <td>IPR023836</td>\n      <td>ncbifam</td>\n    </tr>\n    <tr>\n      <th>568</th>\n      <td>4378943</td>\n      <td>T</td>\n      <td>G</td>\n      <td>eccC2</td>\n      <td>eccC2_p.Asn504His</td>\n      <td>missense_variant</td>\n      <td>MODERATE</td>\n      <td>eccC2</td>\n      <td>Rv3894c</td>\n      <td>TIGR03924</td>\n      <td>type VII secretion protein EccCa</td>\n      <td>&lt;p&gt;This model represents the N-terminal domain...</td>\n      <td>4378233</td>\n      <td>4380386</td>\n      <td>1971</td>\n      <td>4124</td>\n      <td>IPR023836</td>\n      <td>ncbifam</td>\n    </tr>\n    <tr>\n      <th>569</th>\n      <td>4379680</td>\n      <td>C</td>\n      <td>G</td>\n      <td>eccC2</td>\n      <td>eccC2_p.Arg258Pro</td>\n      <td>missense_variant</td>\n      <td>MODERATE</td>\n      <td>eccC2</td>\n      <td>Rv3894c</td>\n      <td>TIGR03924</td>\n      <td>type VII secretion protein EccCa</td>\n      <td>&lt;p&gt;This model represents the N-terminal domain...</td>\n      <td>4378233</td>\n      <td>4380386</td>\n      <td>1971</td>\n      <td>4124</td>\n      <td>IPR023836</td>\n      <td>ncbifam</td>\n    </tr>\n    <tr>\n      <th>570</th>\n      <td>4407927</td>\n      <td>T</td>\n      <td>G</td>\n      <td>gid</td>\n      <td>gid_p.Glu92Asp</td>\n      <td>missense_variant</td>\n      <td>MODERATE</td>\n      <td>gid</td>\n      <td>Rv3919c</td>\n      <td>TIGR00138</td>\n      <td>16S rRNA (guanine(527)-N(7))-methyltransferase...</td>\n      <td>&lt;p&gt;RsmG was previously called GidB (glucose-in...</td>\n      <td>4407588</td>\n      <td>4408148</td>\n      <td>60</td>\n      <td>620</td>\n      <td>IPR003682</td>\n      <td>ncbifam</td>\n    </tr>\n    <tr>\n      <th>571</th>\n      <td>4407927</td>\n      <td>T</td>\n      <td>G</td>\n      <td>gid</td>\n      <td>gid_p.Glu92Asp</td>\n      <td>missense_variant</td>\n      <td>MODERATE</td>\n      <td>gid</td>\n      <td>Rv3919c</td>\n      <td>PF02527</td>\n      <td>rRNA small subunit methyltransferase G</td>\n      <td>&lt;p&gt;This is a family of bacterial glucose inhib...</td>\n      <td>4407600</td>\n      <td>4408160</td>\n      <td>72</td>\n      <td>632</td>\n      <td>IPR003682</td>\n      <td>pfam</td>\n    </tr>\n  </tbody>\n</table>\n<p>572 rows × 18 columns</p>\n</div>"
     },
     "execution_count": 9,
     "metadata": {},
     "output_type": "execute_result"
    }
   ],
   "source": [
    "VA.DomainAnnotation()"
   ],
   "metadata": {
    "collapsed": false,
    "ExecuteTime": {
     "end_time": "2024-09-30T08:42:30.023586Z",
     "start_time": "2024-09-30T08:42:29.920160Z"
    }
   },
   "id": "bc3089e562cb640b",
   "execution_count": 9
  },
  {
   "cell_type": "code",
   "outputs": [],
   "source": [],
   "metadata": {
    "collapsed": false
   },
   "id": "d880eaeb5d74a083"
  }
 ],
 "metadata": {
  "kernelspec": {
   "display_name": "Python 3",
   "language": "python",
   "name": "python3"
  },
  "language_info": {
   "codemirror_mode": {
    "name": "ipython",
    "version": 2
   },
   "file_extension": ".py",
   "mimetype": "text/x-python",
   "name": "python",
   "nbconvert_exporter": "python",
   "pygments_lexer": "ipython2",
   "version": "2.7.6"
  }
 },
 "nbformat": 4,
 "nbformat_minor": 5
}
