{
 "cells": [
  {
   "cell_type": "code",
   "execution_count": 13,
   "id": "initial_id",
   "metadata": {
    "collapsed": true,
    "ExecuteTime": {
     "end_time": "2024-09-28T16:01:47.846688Z",
     "start_time": "2024-09-28T16:01:47.842659Z"
    }
   },
   "outputs": [],
   "source": [
    "import sys\n",
    "import os\n",
    "sys.path.append(os.path.abspath('../src'))"
   ]
  },
  {
   "cell_type": "code",
   "outputs": [],
   "source": [
    "from mtbtk.tbva import genes, VCFParser,VariantAnnotator,LineageIdentifier"
   ],
   "metadata": {
    "collapsed": false,
    "ExecuteTime": {
     "end_time": "2024-09-28T16:01:48.764541Z",
     "start_time": "2024-09-28T16:01:48.761618Z"
    }
   },
   "id": "996b5d318fc58557",
   "execution_count": 14
  },
  {
   "cell_type": "code",
   "outputs": [
    {
     "data": {
      "text/plain": "['lineage4', 'lineage4.9']"
     },
     "execution_count": 15,
     "metadata": {},
     "output_type": "execute_result"
    }
   ],
   "source": [
    "vcf = VCFParser('R1_ano.vcf')\n",
    "LI = LineageIdentifier()\n",
    "LI.get_match_lineage(vcf.SNP)"
   ],
   "metadata": {
    "collapsed": false,
    "ExecuteTime": {
     "end_time": "2024-09-28T16:01:49.400766Z",
     "start_time": "2024-09-28T16:01:49.293329Z"
    }
   },
   "id": "f9319d6e5acb8fc6",
   "execution_count": 15
  },
  {
   "cell_type": "code",
   "outputs": [
    {
     "name": "stdout",
     "output_type": "stream",
     "text": [
      "          POS REF ALT     GENE           VARIANT             ANNOTATION  \\\n",
      "0        1849   C   A     dnaN    dnaN_c.-203C>A  upstream_gene_variant   \n",
      "1        1977   A   G     dnaN     dnaN_c.-75A>G  upstream_gene_variant   \n",
      "2        4013   T   C     recF  recF_p.Ile245Thr       missense_variant   \n",
      "3        7362   G   C     gyrA   gyrA_p.Glu21Gln       missense_variant   \n",
      "4        7585   G   C     gyrA   gyrA_p.Ser95Thr       missense_variant   \n",
      "...       ...  ..  ..      ...               ...                    ...   \n",
      "1275  4393590   C   G    mutT4  mutT4_p.Arg48Gly       missense_variant   \n",
      "1276  4397736   C   T   Rv3910  Rv3910_c.1140C>T     synonymous_variant   \n",
      "1277  4407588   T   C      gid      gid_c.615A>G     synonymous_variant   \n",
      "1278  4407927   T   G      gid    gid_p.Glu92Asp       missense_variant   \n",
      "1279  4408923   C   T  Rv3920c  Rv3920c_c.-26G>A  upstream_gene_variant   \n",
      "\n",
      "        IMPACT  \n",
      "0     MODIFIER  \n",
      "1     MODIFIER  \n",
      "2     MODERATE  \n",
      "3     MODERATE  \n",
      "4     MODERATE  \n",
      "...        ...  \n",
      "1275  MODERATE  \n",
      "1276       LOW  \n",
      "1277       LOW  \n",
      "1278  MODERATE  \n",
      "1279  MODIFIER  \n",
      "\n",
      "[1280 rows x 7 columns]\n"
     ]
    }
   ],
   "source": [
    "VA = VariantAnnotator(vcf.SNP)\n",
    "print(VA.annotate())"
   ],
   "metadata": {
    "collapsed": false,
    "ExecuteTime": {
     "end_time": "2024-09-28T16:01:51.192246Z",
     "start_time": "2024-09-28T16:01:50.978236Z"
    }
   },
   "id": "aab6f3bc7621e39e",
   "execution_count": 16
  },
  {
   "cell_type": "code",
   "outputs": [
    {
     "data": {
      "text/plain": "'CCT'"
     },
     "execution_count": 7,
     "metadata": {},
     "output_type": "execute_result"
    }
   ],
   "source": [
    "rel_pos = 163705-163366\n",
    "genes['cyp138']['sequence'][rel_pos:rel_pos+3]"
   ],
   "metadata": {
    "collapsed": false,
    "ExecuteTime": {
     "end_time": "2024-09-28T15:56:27.868648Z",
     "start_time": "2024-09-28T15:56:27.863089Z"
    }
   },
   "id": "2f0b69dd44fbd567",
   "execution_count": 7
  },
  {
   "cell_type": "code",
   "outputs": [
    {
     "data": {
      "text/plain": "          POS REF ALT\n0        1849   C   A\n1        1977   A   G\n2        4013   T   C\n3        7362   G   C\n4        7585   G   C\n...       ...  ..  ..\n1281  4393590   C   G\n1282  4397736   C   T\n1283  4407588   T   C\n1284  4407927   T   G\n1285  4408923   C   T\n\n[1286 rows x 3 columns]",
      "text/html": "<div>\n<style scoped>\n    .dataframe tbody tr th:only-of-type {\n        vertical-align: middle;\n    }\n\n    .dataframe tbody tr th {\n        vertical-align: top;\n    }\n\n    .dataframe thead th {\n        text-align: right;\n    }\n</style>\n<table border=\"1\" class=\"dataframe\">\n  <thead>\n    <tr style=\"text-align: right;\">\n      <th></th>\n      <th>POS</th>\n      <th>REF</th>\n      <th>ALT</th>\n    </tr>\n  </thead>\n  <tbody>\n    <tr>\n      <th>0</th>\n      <td>1849</td>\n      <td>C</td>\n      <td>A</td>\n    </tr>\n    <tr>\n      <th>1</th>\n      <td>1977</td>\n      <td>A</td>\n      <td>G</td>\n    </tr>\n    <tr>\n      <th>2</th>\n      <td>4013</td>\n      <td>T</td>\n      <td>C</td>\n    </tr>\n    <tr>\n      <th>3</th>\n      <td>7362</td>\n      <td>G</td>\n      <td>C</td>\n    </tr>\n    <tr>\n      <th>4</th>\n      <td>7585</td>\n      <td>G</td>\n      <td>C</td>\n    </tr>\n    <tr>\n      <th>...</th>\n      <td>...</td>\n      <td>...</td>\n      <td>...</td>\n    </tr>\n    <tr>\n      <th>1281</th>\n      <td>4393590</td>\n      <td>C</td>\n      <td>G</td>\n    </tr>\n    <tr>\n      <th>1282</th>\n      <td>4397736</td>\n      <td>C</td>\n      <td>T</td>\n    </tr>\n    <tr>\n      <th>1283</th>\n      <td>4407588</td>\n      <td>T</td>\n      <td>C</td>\n    </tr>\n    <tr>\n      <th>1284</th>\n      <td>4407927</td>\n      <td>T</td>\n      <td>G</td>\n    </tr>\n    <tr>\n      <th>1285</th>\n      <td>4408923</td>\n      <td>C</td>\n      <td>T</td>\n    </tr>\n  </tbody>\n</table>\n<p>1286 rows × 3 columns</p>\n</div>"
     },
     "execution_count": 8,
     "metadata": {},
     "output_type": "execute_result"
    }
   ],
   "source": [
    "vcf.SNP"
   ],
   "metadata": {
    "collapsed": false,
    "ExecuteTime": {
     "end_time": "2024-09-28T15:56:52.297190Z",
     "start_time": "2024-09-28T15:56:52.283342Z"
    }
   },
   "id": "aba28ee518b98378",
   "execution_count": 8
  },
  {
   "cell_type": "code",
   "outputs": [],
   "source": [
    "from Bio import SeqIO\n",
    "TBG = SeqIO.read('GCA_000195955.2_ASM19595v2_genomic.fna','fasta')"
   ],
   "metadata": {
    "collapsed": false,
    "ExecuteTime": {
     "end_time": "2024-09-28T16:00:05.052455Z",
     "start_time": "2024-09-28T16:00:04.861403Z"
    }
   },
   "id": "c71ead6aede9b80e",
   "execution_count": 9
  },
  {
   "cell_type": "code",
   "outputs": [
    {
     "data": {
      "text/plain": "SeqRecord(seq=Seq('CCT'), id='AL123456.3', name='AL123456.3', description='AL123456.3 Mycobacterium tuberculosis H37Rv complete genome', dbxrefs=[])"
     },
     "execution_count": 12,
     "metadata": {},
     "output_type": "execute_result"
    }
   ],
   "source": [
    "TBG[163704:163704+3]"
   ],
   "metadata": {
    "collapsed": false,
    "ExecuteTime": {
     "end_time": "2024-09-28T16:01:00.131146Z",
     "start_time": "2024-09-28T16:01:00.117038Z"
    }
   },
   "id": "5ccb80b951119929",
   "execution_count": 12
  },
  {
   "cell_type": "code",
   "outputs": [],
   "source": [],
   "metadata": {
    "collapsed": false
   },
   "id": "446993de5b28a316"
  }
 ],
 "metadata": {
  "kernelspec": {
   "display_name": "Python 3",
   "language": "python",
   "name": "python3"
  },
  "language_info": {
   "codemirror_mode": {
    "name": "ipython",
    "version": 2
   },
   "file_extension": ".py",
   "mimetype": "text/x-python",
   "name": "python",
   "nbconvert_exporter": "python",
   "pygments_lexer": "ipython2",
   "version": "2.7.6"
  }
 },
 "nbformat": 4,
 "nbformat_minor": 5
}
